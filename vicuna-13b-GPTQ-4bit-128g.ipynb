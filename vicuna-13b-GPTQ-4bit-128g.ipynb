{
    "nbformat": 4,
    "nbformat_minor": 0,
    "metadata": {
      "colab": {
        "provenance": []
      },
      "kernelspec": {
        "name": "python3",
        "display_name": "Python 3"
      },
      "language_info": {
        "name": "python"
      },
      "accelerator": "GPU",
      "gpuClass": "standard"
    },
    "cells": [
        {
          "cell_type": "markdown",
          "metadata": {
            "id": "view-in-github"
          },
          "source": [
            "[![Open In Colab](https://colab.research.google.com/assets/colab-badge.svg)](https://colab.research.google.com/github/camenduru/text-generation-webui-colab/blob/main/vicuna-13b-GPTQ-4bit-128g.ipynb)"
          ]
        },
      {
        "cell_type": "code",
        "execution_count": null,
        "metadata": {
          "id": "VCFOzsQSHbjM"
        },
        "outputs": [],
        "source": [
          "%cd /content\n",
          "!git clone https://github.com/camenduru/text-generation-webui\n",
          "%cd /content/text-generation-webui\n",
          "!pip install -r requirements.txt\n",
          "!git clone https://huggingface.co/anon8231489123/vicuna-13b-GPTQ-4bit-128g /content/text-generation-webui/models/vicuna-13b-GPTQ-4bit-128g\n",
          "\n",
          "!mkdir /content/text-generation-webui/repositories\n",
          "%cd /content/text-generation-webui/repositories\n",
          "!git clone -b cuda https://github.com/camenduru/GPTQ-for-LLaMa.git\n",
          "%cd GPTQ-for-LLaMa\n",
          "!python setup_cuda.py install\n",
          "\n",
          "%cd /content/text-generation-webui\n",
          "!python server.py --share --chat --wbits 4 --groupsize 128"
        ]
      }
    ]
  }