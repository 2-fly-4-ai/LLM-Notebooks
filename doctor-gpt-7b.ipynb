{
  "cells": [
    {
      "cell_type": "markdown",
      "metadata": {
        "id": "view-in-github"
      },
      "source": [
        "[![Open In Colab](https://colab.research.google.com/assets/colab-badge.svg)](https://colab.research.google.com/github/camenduru/text-generation-webui-colab/blob/main/doctor-gpt-7b.ipynb)"
      ]
    },
    {
      "cell_type": "code",
      "execution_count": null,
      "metadata": {
        "id": "VCFOzsQSHbjM"
      },
      "outputs": [],
      "source": [
        "%cd /content\n",
        "!apt-get -y install -qq aria2\n",
        "\n",
        "!git clone -b v2.1 https://github.com/camenduru/text-generation-webui\n",
        "%cd /content/text-generation-webui\n",
        "!pip install -r requirements.txt\n",
        "\n",
        "!aria2c --console-log-level=error -c -x 16 -s 16 -k 1M https://huggingface.co/4bit/medllama2_7b_safetensors/resolve/main/model-00001-of-00007.safetensors -d /content/text-generation-webui/models/medllama2_7b -o model-00001-of-00007.safetensors\n",
        "!aria2c --console-log-level=error -c -x 16 -s 16 -k 1M https://huggingface.co/4bit/medllama2_7b_safetensors/resolve/main/model-00002-of-00007.safetensors -d /content/text-generation-webui/models/medllama2_7b -o model-00002-of-00007.safetensors\n",
        "!aria2c --console-log-level=error -c -x 16 -s 16 -k 1M https://huggingface.co/4bit/medllama2_7b_safetensors/resolve/main/model-00002-of-00007.safetensors -d /content/text-generation-webui/models/medllama2_7b -o model-00003-of-00007.safetensors\n",
        "!aria2c --console-log-level=error -c -x 16 -s 16 -k 1M https://huggingface.co/4bit/medllama2_7b_safetensors/resolve/main/model-00002-of-00007.safetensors -d /content/text-generation-webui/models/medllama2_7b -o model-00004-of-00007.safetensors\n",
        "!aria2c --console-log-level=error -c -x 16 -s 16 -k 1M https://huggingface.co/4bit/medllama2_7b_safetensors/resolve/main/model-00002-of-00007.safetensors -d /content/text-generation-webui/models/medllama2_7b -o model-00005-of-00007.safetensors\n",
        "!aria2c --console-log-level=error -c -x 16 -s 16 -k 1M https://huggingface.co/4bit/medllama2_7b_safetensors/resolve/main/model-00002-of-00007.safetensors -d /content/text-generation-webui/models/medllama2_7b -o model-00006-of-00007.safetensors\n",
        "!aria2c --console-log-level=error -c -x 16 -s 16 -k 1M https://huggingface.co/4bit/medllama2_7b_safetensors/resolve/main/model-00002-of-00007.safetensors -d /content/text-generation-webui/models/medllama2_7b -o model-00007-of-00007.safetensors\n",
        "!aria2c --console-log-level=error -c -x 16 -s 16 -k 1M https://huggingface.co/4bit/medllama2_7b_safetensors/raw/main/model.safetensors.index.json -d /content/text-generation-webui/models/medllama2_7b -o model.safetensors.index.json\n",
        "!aria2c --console-log-level=error -c -x 16 -s 16 -k 1M https://huggingface.co/4bit/medllama2_7b_safetensors/raw/main/special_tokens_map.json -d /content/text-generation-webui/models/medllama2_7b -o special_tokens_map.json\n",
        "!aria2c --console-log-level=error -c -x 16 -s 16 -k 1M https://huggingface.co/4bit/medllama2_7b_safetensors/raw/main/tokenizer.json -d /content/text-generation-webui/models/medllama2_7b -o tokenizer.json\n",
        "!aria2c --console-log-level=error -c -x 16 -s 16 -k 1M https://huggingface.co/4bit/medllama2_7b_safetensors/raw/main/tokenizer_config.json -d /content/text-generation-webui/models/medllama2_7b -o tokenizer_config.json\n",
        "!aria2c --console-log-level=error -c -x 16 -s 16 -k 1M https://huggingface.co/4bit/medllama2_7b_safetensors/raw/main/config.json -d /content/text-generation-webui/models/medllama2_7b -o config.json\n",
        "!aria2c --console-log-level=error -c -x 16 -s 16 -k 1M https://huggingface.co/4bit/medllama2_7b_safetensors/raw/main/generation_config.json -d /content/text-generation-webui/models/medllama2_7b -o generation_config.json\n",
        "!aria2c --console-log-level=error -c -x 16 -s 16 -k 1M https://huggingface.co/4bit/medllama2_7b_safetensors/resolve/main/tokenizer.model -d /home/workspace/text-generation-webui/models/medllama2_7b -o tokenizer.model\n",
        "\n",
        "%cd /content/text-generation-webui\n",
        "!python server.py --share --model /content/text-generation-webui/models/medllama2_7b"
      ]
    }
  ],
  "metadata": {
    "accelerator": "GPU",
    "colab": {
      "provenance": []
    },
    "gpuClass": "standard",
    "kernelspec": {
      "display_name": "Python 3",
      "name": "python3"
    },
    "language_info": {
      "name": "python"
    }
  },
  "nbformat": 4,
  "nbformat_minor": 0
}
