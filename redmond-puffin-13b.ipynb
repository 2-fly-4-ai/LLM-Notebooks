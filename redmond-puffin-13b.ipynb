{
  "cells": [
    {
      "cell_type": "markdown",
      "metadata": {
        "id": "view-in-github"
      },
      "source": [
        "[![Open In Colab](https://colab.research.google.com/assets/colab-badge.svg)](https://colab.research.google.com/github/camenduru/text-generation-webui-colab/blob/main/redmond-puffin-13b.ipynb)"
      ]
    },
    {
      "cell_type": "code",
      "execution_count": null,
      "metadata": {
        "id": "VCFOzsQSHbjM"
      },
      "outputs": [],
      "source": [
        "%cd /content\n",
        "!apt-get -y install -qq aria2\n",
        "\n",
        "!git clone -b v1.8 https://github.com/camenduru/text-generation-webui\n",
        "%cd /content/text-generation-webui\n",
        "!pip install -r requirements.txt\n",
        "\n",
        "!aria2c --console-log-level=error -c -x 16 -s 16 -k 1M https://huggingface.co/4bit/Redmond-Puffin-13B/resolve/main/pytorch_model-00001-of-00003.bin -d /content/text-generation-webui/models/Redmond-Puffin-13B -o pytorch_model-00001-of-00003.bin\n",
        "!aria2c --console-log-level=error -c -x 16 -s 16 -k 1M https://huggingface.co/4bit/Redmond-Puffin-13B/resolve/main/pytorch_model-00002-of-00003.bin -d /content/text-generation-webui/models/Redmond-Puffin-13B -o pytorch_model-00002-of-00003.bin\n",
        "!aria2c --console-log-level=error -c -x 16 -s 16 -k 1M https://huggingface.co/4bit/Redmond-Puffin-13B/resolve/main/pytorch_model-00003-of-00003.bin -d /content/text-generation-webui/models/Redmond-Puffin-13B -o pytorch_model-00003-of-00003.bin\n",
        "!aria2c --console-log-level=error -c -x 16 -s 16 -k 1M https://huggingface.co/4bit/Redmond-Puffin-13B/raw/main/pytorch_model.bin.index.json -d /content/text-generation-webui/models/Redmond-Puffin-13B -o pytorch_model.bin.index.json\n",
        "!aria2c --console-log-level=error -c -x 16 -s 16 -k 1M https://huggingface.co/4bit/Redmond-Puffin-13B/raw/main/special_tokens_map.json -d /content/text-generation-webui/models/Redmond-Puffin-13B -o special_tokens_map.json\n",
        "!aria2c --console-log-level=error -c -x 16 -s 16 -k 1M https://huggingface.co/4bit/Redmond-Puffin-13B/resolve/main/tokenizer.model -d /content/text-generation-webui/models/Redmond-Puffin-13B -o tokenizer.model\n",
        "!aria2c --console-log-level=error -c -x 16 -s 16 -k 1M https://huggingface.co/4bit/Redmond-Puffin-13B/raw/main/tokenizer_config.json -d /content/text-generation-webui/models/Redmond-Puffin-13B -o tokenizer_config.json\n",
        "!aria2c --console-log-level=error -c -x 16 -s 16 -k 1M https://huggingface.co/4bit/Redmond-Puffin-13B/raw/main/config.json -d /content/text-generation-webui/models/Redmond-Puffin-13B -o config.json\n",
        "!aria2c --console-log-level=error -c -x 16 -s 16 -k 1M https://huggingface.co/4bit/Redmond-Puffin-13B/raw/main/generation_config.json -d /content/text-generation-webui/models/Redmond-Puffin-13B -o generation_config.json\n",
        "\n",
        "%cd /content/text-generation-webui\n",
        "!python server.py --share --chat --load-in-8bit --model /content/text-generation-webui/models/Redmond-Puffin-13B"
      ]
    }
  ],
  "metadata": {
    "accelerator": "GPU",
    "colab": {
      "provenance": []
    },
    "gpuClass": "standard",
    "kernelspec": {
      "display_name": "Python 3",
      "name": "python3"
    },
    "language_info": {
      "name": "python"
    }
  },
  "nbformat": 4,
  "nbformat_minor": 0
}
